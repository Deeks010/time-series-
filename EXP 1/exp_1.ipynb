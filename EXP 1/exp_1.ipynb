{
  "cells": [
    {
      "cell_type": "code",
      "execution_count": null,
      "metadata": {
        "id": "cRzVselyzswt"
      },
      "outputs": [],
      "source": [
        "import pandas as pd\n",
        "# Load the stock data\n",
        "file_path = r'C:\\Users\\Lenovo\\Desktop\\28\\time-series-\\EXP 2\\autism_screening.csv'\n",
        "data = pd.read_csv(file_path)\n",
        "close_prices_AAPL = data['Close']"
      ]
    },
    {
      "cell_type": "code",
      "execution_count": null,
      "metadata": {
        "id": "dt-1wQ5R0E7w"
      },
      "outputs": [],
      "source": [
        "# Reverse the order of the data\n",
        "close_prices_AAPL_reverse = close_prices_AAPL.iloc[::-1]\n",
        "\n",
        "# Reset index to maintain the correct time series order in the plot\n",
        "close_prices_AAPL_reverse.reset_index(drop=True, inplace=True)"
      ]
    },
    {
      "cell_type": "code",
      "execution_count": null,
      "metadata": {
        "colab": {
          "base_uri": "https://localhost:8080/"
        },
        "id": "GXv-Nfzf3K7Q",
        "outputId": "b809c910-4916-4dda-afc2-32bb876c0148"
      },
      "outputs": [
        {
          "name": "stdout",
          "output_type": "stream",
          "text": [
            "Date                343\n",
            "Short Vol           343\n",
            "Short Exempt Vol    343\n",
            "Total Vol           343\n",
            "% Shorted           343\n",
            "Close               343\n",
            "dtype: int64\n"
          ]
        },
        {
          "name": "stderr",
          "output_type": "stream",
          "text": [
            "<ipython-input-11-ed9bde2add09>:9: FutureWarning: A value is trying to be set on a copy of a DataFrame or Series through chained assignment using an inplace method.\n",
            "The behavior will change in pandas 3.0. This inplace method will never work because the intermediate object on which we are setting values always behaves as a copy.\n",
            "\n",
            "For example, when doing 'df[col].method(value, inplace=True)', try using 'df.method({col: value}, inplace=True)' or df[col] = df[col].method(value) instead, to perform the operation inplace on the original object.\n",
            "\n",
            "\n",
            "  data['Close'].fillna(data['Close'].mean(), inplace=True) # Fill NaNs in 'Close' column\n"
          ]
        }
      ],
      "source": [
        "# 1. Handling Missing Values:\n",
        "# Check for missing values in each column\n",
        "print(data.isnull().sum())\n",
        "\n",
        "# Drop rows with missing values (if not too many)\n",
        "data.dropna(inplace=True)\n",
        "\n",
        "# Fill missing values in 'Close' with the mean - Moved before outlier handling\n",
        "data['Close'].fillna(data['Close'].mean(), inplace=True) # Fill NaNs in 'Close' column\n",
        "\n",
        "# 2. Handling Outliers:\n",
        "# (a) Visualization: Create box plots or scatter plots to visually identify outliers.\n",
        "\n",
        "# (b) Using IQR (Interquartile Range):\n",
        "# Calculate IQR for relevant numerical columns, e.g., 'Close'\n",
        "Q1 = data['Close'].quantile(0.25)\n",
        "Q3 = data['Close'].quantile(0.75)\n",
        "IQR = Q3 - Q1\n",
        "lower_bound = Q1 - 1.5 * IQR\n",
        "upper_bound = Q3 + 1.5 * IQR\n",
        "\n",
        "# Filter data to remove outliers\n",
        "data = data[(data['Close'] >= lower_bound) & (data['Close'] <= upper_bound)]\n",
        "\n",
        "# ... (rest of the code remains the same) ..."
      ]
    },
    {
      "cell_type": "code",
      "execution_count": null,
      "metadata": {
        "id": "DpQaV1_n0h5n"
      },
      "outputs": [],
      "source": [
        "# Data preprocessing\n",
        "import numpy as np\n",
        "\n",
        "\n",
        "data = close_prices_AAPL_reverse.values.reshape(-1, 1)  # Reshape the data\n",
        "data_normalized = data / np.max(data)  # Normalize the data"
      ]
    },
    {
      "cell_type": "code",
      "execution_count": null,
      "metadata": {
        "id": "wkb8PTzG0x9H"
      },
      "outputs": [],
      "source": [
        "# Split the data into training and testing sets\n",
        "train_size = int(len(data_normalized) * 0.8)\n",
        "train_data = data_normalized[:train_size]\n",
        "test_data = data_normalized[train_size:]"
      ]
    },
    {
      "cell_type": "code",
      "execution_count": null,
      "metadata": {
        "colab": {
          "base_uri": "https://localhost:8080/",
          "height": 564
        },
        "id": "uGHzEMH23eL5",
        "outputId": "65a6143e-161f-45e3-de90-423d05736fff"
      },
      "outputs": [],
      "source": [
        "# Plot the line chart\n",
        "import matplotlib.pyplot as plt\n",
        "plt.figure(figsize=(10, 6))\n",
        "plt.plot(close_prices_AAPL_reverse)\n",
        "plt.xlabel('Time')\n",
        "plt.ylabel('Close Prices')\n",
        "plt.title('Autism screeningn data')\n",
        "plt.grid(True)\n",
        "plt.show()"
      ]
    }
  ],
  "metadata": {
    "colab": {
      "provenance": []
    },
    "kernelspec": {
      "display_name": "Python 3",
      "name": "python3"
    },
    "language_info": {
      "name": "python"
    }
  },
  "nbformat": 4,
  "nbformat_minor": 0
}
